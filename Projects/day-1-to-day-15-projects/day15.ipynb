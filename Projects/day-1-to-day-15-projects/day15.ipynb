{
 "cells": [
  {
   "cell_type": "markdown",
   "metadata": {},
   "source": [
    "# Day 15 Coffee Machine challenge"
   ]
  },
  {
   "cell_type": "code",
   "execution_count": 1,
   "metadata": {},
   "outputs": [],
   "source": [
    "MENU = {\n",
    "    \"espresso\": {\n",
    "        \"ingredients\": {\n",
    "            \"water\": 50,\n",
    "            \"coffee\": 18,\n",
    "        },\n",
    "        \"cost\": 1.5,\n",
    "    },\n",
    "    \"latte\": {\n",
    "        \"ingredients\": {\n",
    "            \"water\": 200,\n",
    "            \"milk\": 150,\n",
    "            \"coffee\": 24,\n",
    "        },\n",
    "        \"cost\": 2.5,\n",
    "    },\n",
    "    \"cappuccino\": {\n",
    "        \"ingredients\": {\n",
    "            \"water\": 250,\n",
    "            \"milk\": 100,\n",
    "            \"coffee\": 24,\n",
    "        },\n",
    "        \"cost\": 3.0,\n",
    "    }\n",
    "}"
   ]
  },
  {
   "cell_type": "code",
   "execution_count": 2,
   "metadata": {},
   "outputs": [
    {
     "data": {
      "text/plain": [
       "{'water': 50, 'coffee': 18}"
      ]
     },
     "execution_count": 2,
     "metadata": {},
     "output_type": "execute_result"
    }
   ],
   "source": [
    "MENU[\"espresso\"][\"ingredients\"]"
   ]
  },
  {
   "cell_type": "code",
   "execution_count": 3,
   "metadata": {},
   "outputs": [
    {
     "name": "stdout",
     "output_type": "stream",
     "text": [
      "dict1\n",
      "foo\n",
      "bar\n",
      "dict2\n",
      "baz\n",
      "quux\n"
     ]
    }
   ],
   "source": [
    "d = {'dict1': {'foo': 1, 'bar': 2}, 'dict2': {'baz': 3, 'quux': 4}}\n",
    "\n",
    "for i in d.keys():\n",
    "    print (i)\n",
    "    for j in d[i].keys():\n",
    "        print (j)"
   ]
  },
  {
   "cell_type": "code",
   "execution_count": 4,
   "metadata": {},
   "outputs": [],
   "source": [
    "def isfloat(num):\n",
    "    try:\n",
    "        float(num)\n",
    "        return True\n",
    "    except ValueError:\n",
    "        return False"
   ]
  },
  {
   "cell_type": "code",
   "execution_count": 5,
   "metadata": {},
   "outputs": [
    {
     "data": {
      "text/plain": [
       "{'espresso': {'ingredients': {'water': 50, 'coffee': 18}, 'cost': 1.5},\n",
       " 'latte': {'ingredients': {'water': 200, 'milk': 150, 'coffee': 24},\n",
       "  'cost': 2.5},\n",
       " 'cappuccino': {'ingredients': {'water': 250, 'milk': 100, 'coffee': 24},\n",
       "  'cost': 3.0}}"
      ]
     },
     "execution_count": 5,
     "metadata": {},
     "output_type": "execute_result"
    }
   ],
   "source": [
    "MENU"
   ]
  },
  {
   "cell_type": "code",
   "execution_count": 6,
   "metadata": {},
   "outputs": [
    {
     "name": "stdout",
     "output_type": "stream",
     "text": [
      "water: 50\n",
      "coffee: 18\n",
      "Price: 1.5\n"
     ]
    }
   ],
   "source": [
    "for i in MENU.keys():\n",
    "    if i == \"espresso\":\n",
    "        #print (i)\n",
    "        for j in MENU[i].keys():\n",
    "            if type(MENU[i][j]) is dict:\n",
    "                #print(len(MENU[i][j]))\n",
    "                for k in MENU[i][j].keys():\n",
    "                    print(f\"{k}: {MENU[i][j][k]}\")\n",
    "            else:\n",
    "                print(f\"Price: {MENU[i][j]}\")\n",
    "                \n",
    "            "
   ]
  },
  {
   "cell_type": "code",
   "execution_count": 7,
   "metadata": {},
   "outputs": [],
   "source": [
    "def check_quantities(type_of_coffee):\n",
    "    for i in MENU.keys():\n",
    "        if i == type_of_coffee:\n",
    "        #print (i)\n",
    "            for j in MENU[i].keys():\n",
    "                if type(MENU[i][j]) is dict:\n",
    "                    #print(len(MENU[i][j]))\n",
    "                    ingredients_dict = MENU[i][j]\n",
    "                    #for k in MENU[i][j].keys():\n",
    "                    #    print(f\"{k}: {MENU[i][j][k]}\")\n",
    "                else:\n",
    "                    price = MENU[i][j]\n",
    "                    #print(f\"Price: {MENU[i][j]}\")\n",
    "    return(ingredients_dict, price)\n"
   ]
  },
  {
   "cell_type": "code",
   "execution_count": 8,
   "metadata": {},
   "outputs": [],
   "source": [
    "def buy_coffee(type_of_coffee):\n",
    "    # Part 1:: Check if resources are sufficient\n",
    "    print(MENU[type_of_coffee]['ingredients'])    \n",
    "    for i in MENU[type_of_coffee]['ingredients']:\n",
    "        print(MENU[type_of_coffee]['ingredients'][i])"
   ]
  },
  {
   "cell_type": "code",
   "execution_count": 9,
   "metadata": {},
   "outputs": [
    {
     "data": {
      "text/plain": [
       "50"
      ]
     },
     "execution_count": 9,
     "metadata": {},
     "output_type": "execute_result"
    }
   ],
   "source": [
    "MENU['espresso']['ingredients']['water']"
   ]
  },
  {
   "cell_type": "code",
   "execution_count": 19,
   "metadata": {},
   "outputs": [
    {
     "data": {
      "text/plain": [
       "{'water': 50, 'coffee': 18}"
      ]
     },
     "execution_count": 19,
     "metadata": {},
     "output_type": "execute_result"
    }
   ],
   "source": [
    "MENU['espresso']['ingredients']"
   ]
  },
  {
   "cell_type": "code",
   "execution_count": 38,
   "metadata": {},
   "outputs": [
    {
     "name": "stdout",
     "output_type": "stream",
     "text": [
      "water\n",
      "50.0\n",
      "coffee\n",
      "18.0\n"
     ]
    }
   ],
   "source": [
    "for i in MENU['espresso']['ingredients']:\n",
    "    print(i)\n",
    "    print(float(MENU['espresso']['ingredients'][i]))"
   ]
  },
  {
   "cell_type": "code",
   "execution_count": 64,
   "metadata": {},
   "outputs": [
    {
     "name": "stdout",
     "output_type": "stream",
     "text": [
      "{'water': 50, 'coffee': 18}\n",
      "50\n",
      "18\n"
     ]
    }
   ],
   "source": [
    "buy_coffee('espresso')"
   ]
  },
  {
   "cell_type": "code",
   "execution_count": 31,
   "metadata": {},
   "outputs": [],
   "source": [
    "def count_coins(quarters, dimes, nickels, penies):\n",
    "    total = int(quarters)*0.25\n",
    "    total = total + int(dimes)*0.10\n",
    "    total = total + int(nickels)*0.05\n",
    "    total = total + int(penies)*0.01\n",
    "    return(float(total))\n",
    "    "
   ]
  },
  {
   "cell_type": "code",
   "execution_count": 34,
   "metadata": {},
   "outputs": [
    {
     "data": {
      "text/plain": [
       "0.9"
      ]
     },
     "execution_count": 34,
     "metadata": {},
     "output_type": "execute_result"
    }
   ],
   "source": [
    "count_coins(3,1,1,0)"
   ]
  },
  {
   "cell_type": "code",
   "execution_count": 35,
   "metadata": {},
   "outputs": [
    {
     "data": {
      "text/plain": [
       "1.5"
      ]
     },
     "execution_count": 35,
     "metadata": {},
     "output_type": "execute_result"
    }
   ],
   "source": [
    "MENU['espresso']['cost']"
   ]
  },
  {
   "cell_type": "code",
   "execution_count": 39,
   "metadata": {},
   "outputs": [],
   "source": [
    "resources = {\n",
    "    \"water\": 300,\n",
    "    \"milk\": 200,\n",
    "    \"coffee\": 100,\n",
    "}"
   ]
  },
  {
   "cell_type": "code",
   "execution_count": 42,
   "metadata": {},
   "outputs": [
    {
     "data": {
      "text/plain": [
       "{'water': 210, 'milk': 200, 'coffee': 100}"
      ]
     },
     "execution_count": 42,
     "metadata": {},
     "output_type": "execute_result"
    }
   ],
   "source": [
    "resources"
   ]
  },
  {
   "cell_type": "code",
   "execution_count": 41,
   "metadata": {},
   "outputs": [],
   "source": [
    "resources['water'] = resources['water'] -90"
   ]
  },
  {
   "cell_type": "code",
   "execution_count": null,
   "metadata": {},
   "outputs": [],
   "source": []
  }
 ],
 "metadata": {
  "kernelspec": {
   "display_name": "sandbox",
   "language": "python",
   "name": "sandbox"
  },
  "language_info": {
   "codemirror_mode": {
    "name": "ipython",
    "version": 3
   },
   "file_extension": ".py",
   "mimetype": "text/x-python",
   "name": "python",
   "nbconvert_exporter": "python",
   "pygments_lexer": "ipython3",
   "version": "3.10.2"
  },
  "orig_nbformat": 4
 },
 "nbformat": 4,
 "nbformat_minor": 2
}
