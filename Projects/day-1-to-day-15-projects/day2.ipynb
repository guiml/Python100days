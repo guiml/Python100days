{
 "cells": [
  {
   "cell_type": "markdown",
   "metadata": {},
   "source": [
    "# Day 2"
   ]
  },
  {
   "cell_type": "markdown",
   "metadata": {},
   "source": [
    "* Data types"
   ]
  },
  {
   "cell_type": "code",
   "execution_count": 7,
   "metadata": {},
   "outputs": [
    {
     "name": "stdout",
     "output_type": "stream",
     "text": [
      "H\n",
      "123345\n"
     ]
    }
   ],
   "source": [
    "# Strings\n",
    "\n",
    "print(\"Hello\"[0])\n",
    "\n",
    "#Number enclosed in quotes (double or single) are treated as strings\n",
    "print(\"123\"+\"345\")"
   ]
  },
  {
   "cell_type": "markdown",
   "metadata": {},
   "source": [
    "* Number data types"
   ]
  },
  {
   "cell_type": "code",
   "execution_count": 4,
   "metadata": {},
   "outputs": [
    {
     "name": "stdout",
     "output_type": "stream",
     "text": [
      "468\n",
      "1001123345\n"
     ]
    }
   ],
   "source": [
    "#Integer\n",
    "\n",
    "print(123+345)\n",
    "\n",
    "print(1_123_345+1_000_000_000)"
   ]
  },
  {
   "cell_type": "code",
   "execution_count": 5,
   "metadata": {},
   "outputs": [
    {
     "name": "stdout",
     "output_type": "stream",
     "text": [
      "3.24259\n"
     ]
    }
   ],
   "source": [
    "#Float\n",
    "\n",
    "print(3.24259)"
   ]
  },
  {
   "cell_type": "code",
   "execution_count": 6,
   "metadata": {},
   "outputs": [],
   "source": [
    "#Boolean\n",
    "\n",
    "a = True\n",
    "b = False"
   ]
  },
  {
   "cell_type": "markdown",
   "metadata": {},
   "source": [
    "* Check type of variable"
   ]
  },
  {
   "cell_type": "code",
   "execution_count": 7,
   "metadata": {},
   "outputs": [
    {
     "name": "stdout",
     "output_type": "stream",
     "text": [
      "<class 'int'>\n",
      "<class 'str'>\n",
      "Your name has 3 characters\n"
     ]
    }
   ],
   "source": [
    "num_char = len(input(\"What is your name?\"))\n",
    "\n",
    "print(type(num_char))\n",
    "\n",
    "new_num_char = str(num_char)\n",
    "\n",
    "print(type(new_num_char))\n",
    "\n",
    "print(\"Your name has \" +new_num_char+\" characters\")\n"
   ]
  },
  {
   "cell_type": "markdown",
   "metadata": {},
   "source": [
    "* First code challenge "
   ]
  },
  {
   "cell_type": "code",
   "execution_count": 8,
   "metadata": {},
   "outputs": [
    {
     "name": "stdout",
     "output_type": "stream",
     "text": [
      "11\n"
     ]
    }
   ],
   "source": [
    "# 🚨 Don't change the code below 👇\n",
    "two_digit_number = input(\"Type a two digit number: \")\n",
    "# 🚨 Don't change the code above 👆\n",
    "\n",
    "####################################\n",
    "#Write your code below this line 👇\n",
    "print(int(two_digit_number[0])+int(two_digit_number[1]))"
   ]
  },
  {
   "cell_type": "code",
   "execution_count": 10,
   "metadata": {},
   "outputs": [
    {
     "data": {
      "text/plain": [
       "2"
      ]
     },
     "execution_count": 10,
     "metadata": {},
     "output_type": "execute_result"
    }
   ],
   "source": [
    "1*2"
   ]
  },
  {
   "cell_type": "markdown",
   "metadata": {},
   "source": [
    "* Coding challenge, calculate BMI, return rounded result\n"
   ]
  },
  {
   "cell_type": "code",
   "execution_count": null,
   "metadata": {},
   "outputs": [],
   "source": [
    "# 🚨 Don't change the code below 👇\n",
    "height = input(\"enter your height in m: \")\n",
    "weight = input(\"enter your weight in kg: \")\n",
    "# 🚨 Don't change the code above 👆\n",
    "\n",
    "#Write your code below this line 👇\n",
    "\n",
    "print(round(float(weight)/float(height)**2))"
   ]
  },
  {
   "cell_type": "markdown",
   "metadata": {},
   "source": [
    "* Rounding floats"
   ]
  },
  {
   "cell_type": "code",
   "execution_count": 11,
   "metadata": {},
   "outputs": [
    {
     "name": "stdout",
     "output_type": "stream",
     "text": [
      "2.67\n"
     ]
    }
   ],
   "source": [
    "print(round(8/3,2))"
   ]
  },
  {
   "cell_type": "markdown",
   "metadata": {},
   "source": [
    "* Floor division\n",
    "\n",
    "Floor division is a normal division operation except that it returns the largest possible integer. This integer is either less than or equal to the normal division result."
   ]
  },
  {
   "cell_type": "code",
   "execution_count": 21,
   "metadata": {},
   "outputs": [
    {
     "name": "stdout",
     "output_type": "stream",
     "text": [
      "2 // 3  = 0 , meanwhile 2 / 3 = 0.67\n",
      "3 // 3  = 1 , meanwhile 3 / 3 = 1.0\n",
      "4 // 3  = 1 , meanwhile 4 / 3 = 1.33\n",
      "5 // 3  = 1 , meanwhile 5 / 3 = 1.67\n",
      "6 // 3  = 2 , meanwhile 6 / 3 = 2.0\n",
      "7 // 3  = 2 , meanwhile 7 / 3 = 2.33\n",
      "8 // 3  = 2 , meanwhile 8 / 3 = 2.67\n",
      "9 // 3  = 3 , meanwhile 9 / 3 = 3.0\n",
      "10 // 3  = 3 , meanwhile 10 / 3 = 3.33\n",
      "11 // 3  = 3 , meanwhile 11 / 3 = 3.67\n",
      "12 // 3  = 4 , meanwhile 12 / 3 = 4.0\n",
      "13 // 3  = 4 , meanwhile 13 / 3 = 4.33\n",
      "14 // 3  = 4 , meanwhile 14 / 3 = 4.67\n",
      "15 // 3  = 5 , meanwhile 15 / 3 = 5.0\n"
     ]
    }
   ],
   "source": [
    "for i in range(2,16):\n",
    "    print(str(i)+ \" // 3 \" + \" = \" +str(i//3) + \" , meanwhile \"+ str(i) + \" / 3 = \"+ str(round(i/3,2)))"
   ]
  },
  {
   "cell_type": "markdown",
   "metadata": {},
   "source": [
    "* F string \n",
    "\n",
    "Also called “formatted string literals,” f-strings are string literals that have an f at the beginning and curly braces containing expressions that will be replaced with their values. The expressions are evaluated at runtime and then formatted using the __format__ protocol. As always, the Python docs are your friend when you want to learn more."
   ]
  },
  {
   "cell_type": "code",
   "execution_count": 23,
   "metadata": {},
   "outputs": [
    {
     "name": "stdout",
     "output_type": "stream",
     "text": [
      "Your score is 0, your height is 1.8 and your winning status is True\n"
     ]
    }
   ],
   "source": [
    "score = 0\n",
    "height = 1.8\n",
    "isWinning = True\n",
    "\n",
    "print(f\"Your score is {score}, your height is {height} and your winning status is {isWinning}\")"
   ]
  },
  {
   "cell_type": "markdown",
   "metadata": {},
   "source": [
    "* Years, Months, Weeks and Days until you are 90.\n",
    "\n",
    "Consider 365 days in a year, 52 weeks in a year and 12 months in a year.\n",
    "\n",
    "Use f String"
   ]
  },
  {
   "cell_type": "code",
   "execution_count": null,
   "metadata": {},
   "outputs": [],
   "source": [
    "# 🚨 Don't change the code below 👇\n",
    "age = input(\"What is your current age?\")\n",
    "# 🚨 Don't change the code above 👆\n",
    "\n",
    "#Write your code below this line 👇\n",
    "\n",
    "YearsUntil90 = 90 - int(age)\n",
    "days = YearsUntil90*365\n",
    "weeks = YearsUntil90*52\n",
    "months = YearsUntil90*12\n",
    "\n",
    "print(f\"You have {days} days, {weeks} weeks, and {months} months left.\")\n"
   ]
  },
  {
   "cell_type": "code",
   "execution_count": 1,
   "metadata": {},
   "outputs": [
    {
     "name": "stdout",
     "output_type": "stream",
     "text": [
      "<class 'str'>\n"
     ]
    }
   ],
   "source": [
    "inpt = input(\"number:\")\n",
    "print(type(inpt))"
   ]
  },
  {
   "cell_type": "markdown",
   "metadata": {},
   "source": [
    "* BMI classificator challenge"
   ]
  },
  {
   "cell_type": "code",
   "execution_count": null,
   "metadata": {},
   "outputs": [],
   "source": [
    "# 🚨 Don't change the code below 👇\n",
    "height = float(input(\"enter your height in m: \"))\n",
    "weight = float(input(\"enter your weight in kg: \"))\n",
    "# 🚨 Don't change the code above 👆\n",
    "\n",
    "#Write your code below this line 👇\n",
    "\n",
    "bmi = float(weight)/float(height)**2\n",
    "\n",
    "if bmi < 18.5:\n",
    "    print(f\"Your BMI is {round(bmi)}, you are underweight.\")\n",
    "elif bmi < 25:\n",
    "    print(f\"Your BMI is {round(bmi)}, you have a normal weight.\")\n",
    "elif bmi < 30:\n",
    "    print(f\"Your BMI is {round(bmi)}, you are slightly overweight.\")\n",
    "elif bmi < 35:\n",
    "    print(f\"Your BMI is {round(bmi)}, you are obese.\")\n",
    "else:\n",
    "    print(f\"Your BMI is {round(bmi)}, you are clinically obese.\")"
   ]
  },
  {
   "cell_type": "markdown",
   "metadata": {},
   "source": [
    "* Challenge Leap Year indicator"
   ]
  },
  {
   "cell_type": "code",
   "execution_count": null,
   "metadata": {},
   "outputs": [],
   "source": [
    "# 🚨 Don't change the code below 👇\n",
    "year = int(input(\"Which year do you want to check? \"))\n",
    "# 🚨 Don't change the code above 👆\n",
    "\n",
    "#Write your code below this line 👇\n",
    "\n",
    "\n",
    "if year%4 == 0:\n",
    "    if year%100 == 0:\n",
    "        if year%400 ==0: \n",
    "            print(\"Leap year.\")\n",
    "        else:\n",
    "            print(\"Not leap year.\")\n",
    "    else:\n",
    "        print(\"Leap year.\")\n",
    "else:\n",
    "    print(\"Not leap year.\")\n"
   ]
  }
 ],
 "metadata": {
  "interpreter": {
   "hash": "aeac741e067ebddcd166dfd2d5807f0eb6ca15772ef62a8f89a2141759802e86"
  },
  "kernelspec": {
   "display_name": "Python 3.10.2 ('.sandbox': venv)",
   "language": "python",
   "name": "python3"
  },
  "language_info": {
   "codemirror_mode": {
    "name": "ipython",
    "version": 3
   },
   "file_extension": ".py",
   "mimetype": "text/x-python",
   "name": "python",
   "nbconvert_exporter": "python",
   "pygments_lexer": "ipython3",
   "version": "3.10.2"
  },
  "orig_nbformat": 4
 },
 "nbformat": 4,
 "nbformat_minor": 2
}
