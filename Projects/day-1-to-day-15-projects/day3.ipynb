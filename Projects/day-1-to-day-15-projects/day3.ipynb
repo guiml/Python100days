{
 "cells": [
  {
   "cell_type": "markdown",
   "metadata": {},
   "source": [
    "# Day 3"
   ]
  },
  {
   "cell_type": "markdown",
   "metadata": {},
   "source": [
    "* Control flow with if/else and Conditional Operators"
   ]
  },
  {
   "cell_type": "code",
   "execution_count": 3,
   "metadata": {},
   "outputs": [
    {
     "name": "stdout",
     "output_type": "stream",
     "text": [
      "Welcome to the rollercoaster!\n",
      "You can ride the rollercoaster!\n"
     ]
    }
   ],
   "source": [
    "print(\"Welcome to the rollercoaster!\")\n",
    "height = int(input(\"What is your height in cm? \"))\n",
    "\n",
    "if height >= 120:\n",
    "    print(\"You can ride the rollercoaster!\")\n",
    "else:\n",
    "    print(\"Sorry, you have to grow taller before you can ride.\")"
   ]
  },
  {
   "cell_type": "markdown",
   "metadata": {},
   "source": [
    "* Module\n",
    "\n",
    "Return the remainder of the equation. \n",
    "\n",
    "7 % 2 = 2 + 2 + 2 + **1**\n",
    "\n",
    "7 % 3 = 3 + 3 + **1**"
   ]
  },
  {
   "cell_type": "code",
   "execution_count": 7,
   "metadata": {},
   "outputs": [
    {
     "name": "stdout",
     "output_type": "stream",
     "text": [
      "1\n",
      "1\n",
      "0\n"
     ]
    }
   ],
   "source": [
    "print(7%2)\n",
    "print(7%3)\n",
    "print(6%2)"
   ]
  },
  {
   "cell_type": "markdown",
   "metadata": {},
   "source": [
    "* First challenge: even or odd number?"
   ]
  },
  {
   "cell_type": "code",
   "execution_count": null,
   "metadata": {},
   "outputs": [],
   "source": [
    "# 🚨 Don't change the code below 👇\n",
    "number = int(input(\"Which number do you want to check? \"))\n",
    "# 🚨 Don't change the code above 👆\n",
    "\n",
    "#Write your code below this line 👇\n",
    "\n",
    "if number%2 == 0:\n",
    "    print(\"This is an even number.\")\n",
    "else:\n",
    "    print(\"This is an odd number.\")"
   ]
  },
  {
   "cell_type": "markdown",
   "metadata": {},
   "source": [
    "* Nested if/else statements"
   ]
  },
  {
   "cell_type": "code",
   "execution_count": 1,
   "metadata": {},
   "outputs": [
    {
     "name": "stdout",
     "output_type": "stream",
     "text": [
      "Welcome to the rollercoaster!\n",
      "You can ride the rollercoaster!\n",
      "Youth tickets are $7.\n",
      "Your final bill is $10\n"
     ]
    }
   ],
   "source": [
    "print(\"Welcome to the rollercoaster!\")\n",
    "height = int(input(\"What is your height in cm? \"))\n",
    "bill = 0\n",
    "if height >= 120:\n",
    "    print(\"You can ride the rollercoaster!\")\n",
    "    age = int(input(\"What is your age? \"))\n",
    "    if age <12:\n",
    "        bill = 5\n",
    "        print(\"Child tickets are $5.\")\n",
    "    elif age <= 18:\n",
    "        bill = 7\n",
    "        print(\"Youth tickets are $7.\")\n",
    "    else:\n",
    "        bill = 12\n",
    "        print(\"Adult tickets are $12.\")\n",
    "\n",
    "    wants_photo = input (\"Do you want a photo take? Y or N. \")\n",
    "\n",
    "    if wants_photo == \"Y\":\n",
    "        #Add 3 $ to the bill\n",
    "        bill += 3\n",
    "    \n",
    "    print(f\"Your final bill is ${bill}\")\n",
    "else:\n",
    "    print(\"Sorry, you have to grow taller before you can ride.\")"
   ]
  },
  {
   "cell_type": "markdown",
   "metadata": {},
   "source": [
    "#Pizza challenge"
   ]
  },
  {
   "cell_type": "code",
   "execution_count": 3,
   "metadata": {},
   "outputs": [
    {
     "name": "stdout",
     "output_type": "stream",
     "text": [
      "Your final bill is $23\n"
     ]
    }
   ],
   "source": [
    "size = input(\"What size do you want? (S/M/L) \")\n",
    "add_pepperoni = input(\"Do you want extra pepperoni? (Y/N) \")\n",
    "extra_cheese = input(\"Do you want extra cheese? (Y/N) \")\n",
    "\n",
    "bill = 0\n",
    "\n",
    "if size == \"S\":\n",
    "    bill += 15\n",
    "elif size == \"M\":\n",
    "    bill += 20\n",
    "else:\n",
    "    bill += 25\n",
    "\n",
    "if add_pepperoni == \"Y\":\n",
    "    if size == \"S\":\n",
    "        bill += 2\n",
    "    else:\n",
    "        bill += 3\n",
    "\n",
    "if extra_cheese == \"Y\":\n",
    "    bill += 1\n",
    "\n",
    "print(f\"Your final bill is ${bill}\")"
   ]
  },
  {
   "cell_type": "markdown",
   "metadata": {},
   "source": [
    "### Midlife crisis addition to the code  "
   ]
  },
  {
   "cell_type": "code",
   "execution_count": null,
   "metadata": {},
   "outputs": [],
   "source": [
    "\n",
    "print(\"Welcome to the rollercoaster!\")\n",
    "height = int(input(\"What is your height in cm? \"))\n",
    "bill = 0\n",
    "if height >= 120:\n",
    "    print(\"You can ride the rollercoaster!\")\n",
    "    age = int(input(\"What is your age? \"))\n",
    "    if age <12:\n",
    "        bill = 5\n",
    "        print(\"Child tickets are $5.\")\n",
    "    elif age <= 18:\n",
    "        bill = 7\n",
    "        print(\"Youth tickets are $7.\")\n",
    "    elif age >= 45 & age <= 55:\n",
    "        print(\"EVerything is going to be ok. Have a free ride on us!\")\n",
    "    else:\n",
    "        bill = 12\n",
    "        print(\"Adult tickets are $12.\")\n",
    "\n",
    "    wants_photo = input (\"Do you want a photo take? Y or N. \")\n",
    "\n",
    "    if wants_photo == \"Y\":\n",
    "        #Add 3 $ to the bill\n",
    "        bill += 3\n",
    "    \n",
    "    print(f\"Your final bill is ${bill}\")\n",
    "else:\n",
    "    print(\"Sorry, you have to grow taller before you can ride.\")"
   ]
  },
  {
   "cell_type": "markdown",
   "metadata": {},
   "source": [
    "### Challenge True Love"
   ]
  },
  {
   "cell_type": "markdown",
   "metadata": {},
   "source": [
    "#### Guilherme solution"
   ]
  },
  {
   "cell_type": "code",
   "execution_count": 8,
   "metadata": {},
   "outputs": [
    {
     "name": "stdout",
     "output_type": "stream",
     "text": [
      "Welcome to the Love Calculator!\n",
      "Your score is 66.\n"
     ]
    }
   ],
   "source": [
    "# 🚨 Don't change the code below 👇\n",
    "print(\"Welcome to the Love Calculator!\")\n",
    "name1 = input(\"What is your name? \\n\")\n",
    "name2 = input(\"What is their name? \\n\")\n",
    "# 🚨 Don't change the code above 👆\n",
    "\n",
    "#Write your code below this line 👇\n",
    "\n",
    "both_names = name1+name2\n",
    "\n",
    "countTrue = 0\n",
    "countLove = 0\n",
    "\n",
    "for letter in both_names.upper():\n",
    "    if letter == \"T\":\n",
    "        countTrue += 1\n",
    "    elif letter == \"R\":\n",
    "        countTrue += 1\n",
    "    elif letter == \"U\":\n",
    "        countTrue += 1\n",
    "    elif letter == \"E\":\n",
    "        countTrue += 1\n",
    "\n",
    "for letter in both_names.upper():\n",
    "    if letter == \"L\":\n",
    "        countLove += 1\n",
    "    elif letter == \"O\":\n",
    "        countLove += 1\n",
    "    elif letter == \"V\":\n",
    "        countLove += 1\n",
    "    elif letter == \"E\":\n",
    "        countLove += 1\n",
    "\n",
    "\n",
    "finalScore = int(str(countTrue)+str(countLove))\n",
    "\n",
    "if (finalScore) < 10 or (finalScore) > 90: \n",
    "    print(f\"Your score is {finalScore}, you go together like coke and mentos.\")\n",
    "elif (finalScore) >= 40 and (finalScore) <= 50: \n",
    "    print(f\"Your score is {finalScore}, you are alright together.\")\n",
    "else:\n",
    "    print(f\"Your score is {finalScore}.\")"
   ]
  },
  {
   "cell_type": "markdown",
   "metadata": {},
   "source": [
    "### Course solution"
   ]
  },
  {
   "cell_type": "code",
   "execution_count": 9,
   "metadata": {},
   "outputs": [
    {
     "name": "stdout",
     "output_type": "stream",
     "text": [
      "Welcome to the Love Calculator!\n",
      "Your score is 66.\n"
     ]
    }
   ],
   "source": [
    "# 🚨 Don't change the code below 👇\n",
    "print(\"Welcome to the Love Calculator!\")\n",
    "name1 = input(\"What is your name? \\n\")\n",
    "name2 = input(\"What is their name? \\n\")\n",
    "# 🚨 Don't change the code above 👆\n",
    "\n",
    "#Write your code below this line 👇\n",
    "\n",
    "combined_string = name1+name2\n",
    "lowercase_string = combined_string.lower()\n",
    "\n",
    "t = lowercase_string.count(\"t\")\n",
    "r = lowercase_string.count(\"r\")\n",
    "u = lowercase_string.count(\"u\")\n",
    "e = lowercase_string.count(\"e\")\n",
    "\n",
    "true = t+r+u+e\n",
    "\n",
    "l = lowercase_string.count(\"l\")\n",
    "o = lowercase_string.count(\"o\")\n",
    "v = lowercase_string.count(\"v\")\n",
    "e = lowercase_string.count(\"e\")\n",
    "\n",
    "love = l+o+v+e\n",
    "\n",
    "finalScore = int(str(countTrue)+str(countLove))\n",
    "\n",
    "if (finalScore) < 10 or (finalScore) > 90: \n",
    "    print(f\"Your score is {finalScore}, you go together like coke and mentos.\")\n",
    "elif (finalScore) >= 40 and (finalScore) <= 50: \n",
    "    print(f\"Your score is {finalScore}, you are alright together.\")\n",
    "else:\n",
    "    print(f\"Your score is {finalScore}.\")"
   ]
  },
  {
   "cell_type": "code",
   "execution_count": null,
   "metadata": {},
   "outputs": [],
   "source": []
  }
 ],
 "metadata": {
  "interpreter": {
   "hash": "aeac741e067ebddcd166dfd2d5807f0eb6ca15772ef62a8f89a2141759802e86"
  },
  "kernelspec": {
   "display_name": "Python 3.10.2 ('.sandbox': venv)",
   "language": "python",
   "name": "python3"
  },
  "language_info": {
   "codemirror_mode": {
    "name": "ipython",
    "version": 3
   },
   "file_extension": ".py",
   "mimetype": "text/x-python",
   "name": "python",
   "nbconvert_exporter": "python",
   "pygments_lexer": "ipython3",
   "version": "3.10.2"
  },
  "orig_nbformat": 4
 },
 "nbformat": 4,
 "nbformat_minor": 2
}
