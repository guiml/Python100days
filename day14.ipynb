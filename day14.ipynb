{
 "cells": [
  {
   "cell_type": "markdown",
   "metadata": {},
   "source": [
    "# Day 14 project notebook"
   ]
  },
  {
   "cell_type": "code",
   "execution_count": 3,
   "metadata": {},
   "outputs": [],
   "source": [
    "dfInstagram = [\n",
    "    {\n",
    "        'name': 'Instagram',\n",
    "        'follower_count': 346,\n",
    "        'description': 'Social media platform',\n",
    "        'country': 'United States'\n",
    "    },\n",
    "    {\n",
    "        'name': 'Cristiano Ronaldo',\n",
    "        'follower_count': 215,\n",
    "        'description': 'Footballer',\n",
    "        'country': 'Portugal'\n",
    "    },\n",
    "    {\n",
    "        'name': 'Ariana Grande',\n",
    "        'follower_count': 183,\n",
    "        'description': 'Musician and actress',\n",
    "        'country': 'United States'\n",
    "    },\n",
    "    {\n",
    "        'name': 'Dwayne Johnson',\n",
    "        'follower_count': 181,\n",
    "        'description': 'Actor and professional wrestler',\n",
    "        'country': 'United States'\n",
    "    },\n",
    "    {\n",
    "        'name': 'Selena Gomez',\n",
    "        'follower_count': 174,\n",
    "        'description': 'Musician and actress',\n",
    "        'country': 'United States'\n",
    "    },\n",
    "    {\n",
    "        'name': 'Kylie Jenner',\n",
    "        'follower_count': 172,\n",
    "        'description': 'Reality TV personality and businesswoman and Self-Made Billionaire',\n",
    "        'country': 'United States'\n",
    "    },\n",
    "    {\n",
    "        'name': 'Kim Kardashian',\n",
    "        'follower_count': 167,\n",
    "        'description': 'Reality TV personality and businesswoman',\n",
    "        'country': 'United States'\n",
    "    },\n",
    "    {\n",
    "        'name': 'Lionel Messi',\n",
    "        'follower_count': 149,\n",
    "        'description': 'Footballer',\n",
    "        'country': 'Argentina'\n",
    "    },\n",
    "    {\n",
    "        'name': 'Beyoncé',\n",
    "        'follower_count': 145,\n",
    "        'description': 'Musician',\n",
    "        'country': 'United States'\n",
    "    },\n",
    "    {\n",
    "        'name': 'Neymar',\n",
    "        'follower_count': 138,\n",
    "        'description': 'Footballer',\n",
    "        'country': 'Brasil'\n",
    "    },\n",
    "    {\n",
    "        'name': 'National Geographic',\n",
    "        'follower_count': 135,\n",
    "        'description': 'Magazine',\n",
    "        'country': 'United States'\n",
    "    },\n",
    "    {\n",
    "        'name': 'Justin Bieber',\n",
    "        'follower_count': 133,\n",
    "        'description': 'Musician',\n",
    "        'country': 'Canada'\n",
    "    },\n",
    "    {\n",
    "        'name': 'Taylor Swift',\n",
    "        'follower_count': 131,\n",
    "        'description': 'Musician',\n",
    "        'country': 'United States'\n",
    "    },\n",
    "    {\n",
    "        'name': 'Kendall Jenner',\n",
    "        'follower_count': 127,\n",
    "        'description': 'Reality TV personality and Model',\n",
    "        'country': 'United States'\n",
    "    },\n",
    "    {\n",
    "        'name': 'Jennifer Lopez',\n",
    "        'follower_count': 119,\n",
    "        'description': 'Musician and actress',\n",
    "        'country': 'United States'\n",
    "    },\n",
    "    {\n",
    "        'name': 'Nicki Minaj',\n",
    "        'follower_count': 113,\n",
    "        'description': 'Musician',\n",
    "        'country': 'Trinidad and Tobago'\n",
    "    },\n",
    "    {\n",
    "        'name': 'Nike',\n",
    "        'follower_count': 109,\n",
    "        'description': 'Sportswear multinational',\n",
    "        'country': 'United States'\n",
    "    },\n",
    "    {\n",
    "        'name': 'Khloé Kardashian',\n",
    "        'follower_count': 108,\n",
    "        'description': 'Reality TV personality and businesswoman',\n",
    "        'country': 'United States'\n",
    "    },\n",
    "    {\n",
    "        'name': 'Miley Cyrus',\n",
    "        'follower_count': 107,\n",
    "        'description': 'Musician and actress',\n",
    "        'country': 'United States'\n",
    "    },\n",
    "    {\n",
    "        'name': 'Katy Perry',\n",
    "        'follower_count': 94,\n",
    "        'description': 'Musician',\n",
    "        'country': 'United States'\n",
    "    },\n",
    "    {\n",
    "        'name': 'Kourtney Kardashian',\n",
    "        'follower_count': 90,\n",
    "        'description': 'Reality TV personality',\n",
    "        'country': 'United States'\n",
    "    },\n",
    "    {\n",
    "        'name': 'Kevin Hart',\n",
    "        'follower_count': 89,\n",
    "        'description': 'Comedian and actor',\n",
    "        'country': 'United States'\n",
    "    },\n",
    "    {\n",
    "        'name': 'Ellen DeGeneres',\n",
    "        'follower_count': 87,\n",
    "        'description': 'Comedian',\n",
    "        'country': 'United States'\n",
    "    },\n",
    "    {\n",
    "        'name': 'Real Madrid CF',\n",
    "        'follower_count': 86,\n",
    "        'description': 'Football club',\n",
    "        'country': 'Spain'\n",
    "    },\n",
    "    {\n",
    "        'name': 'FC Barcelona',\n",
    "        'follower_count': 85,\n",
    "        'description': 'Football club',\n",
    "        'country': 'Spain'\n",
    "    },\n",
    "    {\n",
    "        'name': 'Rihanna',\n",
    "        'follower_count': 81,\n",
    "        'description': 'Musician and businesswoman',\n",
    "        'country': 'Barbados'\n",
    "    },\n",
    "    {\n",
    "        'name': 'Demi Lovato',\n",
    "        'follower_count': 80,\n",
    "        'description': 'Musician and actress',\n",
    "        'country': 'United States'\n",
    "    },\n",
    "    {\n",
    "        'name': \"Victoria's Secret\",\n",
    "        'follower_count': 69,\n",
    "        'description': 'Lingerie brand',\n",
    "        'country': 'United States'\n",
    "    },\n",
    "    {\n",
    "        'name': 'Zendaya',\n",
    "        'follower_count': 68,\n",
    "        'description': 'Actress and musician',\n",
    "        'country': 'United States'\n",
    "    },\n",
    "    {\n",
    "        'name': 'Shakira',\n",
    "        'follower_count': 66,\n",
    "        'description': 'Musician',\n",
    "        'country': 'Colombia'\n",
    "    },\n",
    "    {\n",
    "        'name': 'Drake',\n",
    "        'follower_count': 65,\n",
    "        'description': 'Musician',\n",
    "        'country': 'Canada'\n",
    "    },\n",
    "    {\n",
    "        'name': 'Chris Brown',\n",
    "        'follower_count': 64,\n",
    "        'description': 'Musician',\n",
    "        'country': 'United States'\n",
    "    },\n",
    "    {\n",
    "        'name': 'LeBron James',\n",
    "        'follower_count': 63,\n",
    "        'description': 'Basketball player',\n",
    "        'country': 'United States'\n",
    "    },\n",
    "    {\n",
    "        'name': 'Vin Diesel',\n",
    "        'follower_count': 62,\n",
    "        'description': 'Actor',\n",
    "        'country': 'United States'\n",
    "    },\n",
    "    {\n",
    "        'name': 'Cardi B',\n",
    "        'follower_count': 67,\n",
    "        'description': 'Musician',\n",
    "        'country': 'United States'\n",
    "    },\n",
    "    {\n",
    "        'name': 'David Beckham',\n",
    "        'follower_count': 82,\n",
    "        'description': 'Footballer',\n",
    "        'country': 'United Kingdom'\n",
    "    },\n",
    "    {\n",
    "        'name': 'Billie Eilish',\n",
    "        'follower_count': 61,\n",
    "        'description': 'Musician',\n",
    "        'country': 'United States'\n",
    "    },\n",
    "    {\n",
    "        'name': 'Justin Timberlake',\n",
    "        'follower_count': 59,\n",
    "        'description': 'Musician and actor',\n",
    "        'country': 'United States'\n",
    "    },\n",
    "    {\n",
    "        'name': 'UEFA Champions League',\n",
    "        'follower_count': 58,\n",
    "        'description': 'Club football competition',\n",
    "        'country': 'Europe'\n",
    "    },\n",
    "    {\n",
    "        'name': 'NASA',\n",
    "        'follower_count': 56,\n",
    "        'description': 'Space agency',\n",
    "        'country': 'United States'\n",
    "    },\n",
    "    {\n",
    "        'name': 'Emma Watson',\n",
    "        'follower_count': 56,\n",
    "        'description': 'Actress',\n",
    "        'country': 'United Kingdom'\n",
    "    },\n",
    "    {\n",
    "        'name': 'Shawn Mendes',\n",
    "        'follower_count': 57,\n",
    "        'description': 'Musician',\n",
    "        'country': 'Canada'\n",
    "    },\n",
    "    {\n",
    "        'name': 'Virat Kohli',\n",
    "        'follower_count': 55,\n",
    "        'description': 'Cricketer',\n",
    "        'country': 'India'\n",
    "    },\n",
    "    {\n",
    "        'name': 'Gigi Hadid',\n",
    "        'follower_count': 54,\n",
    "        'description': 'Model',\n",
    "        'country': 'United States'\n",
    "    },\n",
    "    {\n",
    "        'name': 'Priyanka Chopra Jonas',\n",
    "        'follower_count': 53,\n",
    "        'description': 'Actress and musician',\n",
    "        'country': 'India'\n",
    "    },\n",
    "    {\n",
    "        'name': '9GAG',\n",
    "        'follower_count': 52,\n",
    "        'description': 'Social media platform',\n",
    "        'country': 'China'\n",
    "    },\n",
    "    {\n",
    "        'name': 'Ronaldinho',\n",
    "        'follower_count': 51,\n",
    "        'description': 'Footballer',\n",
    "        'country': 'Brasil'\n",
    "    },\n",
    "    {\n",
    "        'name': 'Maluma',\n",
    "        'follower_count': 50,\n",
    "        'description': 'Musician',\n",
    "        'country': 'Colombia'\n",
    "    },\n",
    "    {\n",
    "        'name': 'Camila Cabello',\n",
    "        'follower_count': 49,\n",
    "        'description': 'Musician',\n",
    "        'country': 'Cuba'\n",
    "    },\n",
    "    {\n",
    "        'name': 'NBA',\n",
    "        'follower_count': 47,\n",
    "        'description': 'Club Basketball Competition',\n",
    "        'country': 'United States'\n",
    "    }\n",
    "]"
   ]
  },
  {
   "cell_type": "code",
   "execution_count": 4,
   "metadata": {},
   "outputs": [
    {
     "data": {
      "text/plain": [
       "3"
      ]
     },
     "execution_count": 4,
     "metadata": {},
     "output_type": "execute_result"
    }
   ],
   "source": [
    "def myfunc(a, b):\n",
    "    total = a+b\n",
    "    return(total)\n",
    "\n",
    "myfunc(1,2)\n",
    "\n"
   ]
  },
  {
   "cell_type": "code",
   "execution_count": 6,
   "metadata": {},
   "outputs": [
    {
     "data": {
      "text/plain": [
       "'Portugal'"
      ]
     },
     "execution_count": 6,
     "metadata": {},
     "output_type": "execute_result"
    }
   ],
   "source": [
    "dfInstagram[1]['country']"
   ]
  },
  {
   "cell_type": "code",
   "execution_count": 2,
   "metadata": {},
   "outputs": [],
   "source": [
    "import random"
   ]
  },
  {
   "cell_type": "code",
   "execution_count": 3,
   "metadata": {},
   "outputs": [
    {
     "data": {
      "text/plain": [
       "50"
      ]
     },
     "execution_count": 3,
     "metadata": {},
     "output_type": "execute_result"
    }
   ],
   "source": [
    "len(dfInstagram)"
   ]
  },
  {
   "cell_type": "code",
   "execution_count": 10,
   "metadata": {},
   "outputs": [
    {
     "name": "stdout",
     "output_type": "stream",
     "text": [
      "25\n"
     ]
    },
    {
     "data": {
      "text/plain": [
       "'Rihanna'"
      ]
     },
     "execution_count": 10,
     "metadata": {},
     "output_type": "execute_result"
    }
   ],
   "source": [
    "randA = random.randint(1,49)\n",
    "print(randA)\n",
    "recA = dfInstagram[randA]\n",
    "recA['name']"
   ]
  },
  {
   "cell_type": "code",
   "execution_count": 70,
   "metadata": {},
   "outputs": [
    {
     "data": {
      "text/plain": [
       "{'name': 'Rihanna',\n",
       " 'follower_count': 81,\n",
       " 'description': 'Musician and businesswoman',\n",
       " 'country': 'Barbados'}"
      ]
     },
     "execution_count": 70,
     "metadata": {},
     "output_type": "execute_result"
    }
   ],
   "source": [
    "recA"
   ]
  },
  {
   "cell_type": "code",
   "execution_count": 69,
   "metadata": {},
   "outputs": [
    {
     "name": "stdout",
     "output_type": "stream",
     "text": [
      "48 48\n",
      "48 49\n",
      "37 37\n",
      "37 47\n",
      "31 31\n",
      "31 46\n",
      "20 20\n",
      "20 19\n",
      "25 25\n",
      "25 13\n",
      "21 21\n",
      "21 10\n",
      "33 33\n",
      "33 28\n"
     ]
    }
   ],
   "source": [
    "for _ in range(1,300):\n",
    "    randA = random.randint(1,49)\n",
    "    randB = random.randint(1,49)\n",
    "    \n",
    "    if randA == randB:\n",
    "        print(randA,randB)\n",
    "        if randB == 1:\n",
    "            randB = random.randint(2,49)\n",
    "        elif randB == 49:\n",
    "            randB = random.randint(1,48)\n",
    "        else:\n",
    "            randB = [random.randint(1,randA-1),random.randint(randA+1,49)][random.randint(0,1)] \n",
    "        print(randA,randB)"
   ]
  },
  {
   "cell_type": "code",
   "execution_count": null,
   "metadata": {},
   "outputs": [],
   "source": []
  },
  {
   "cell_type": "code",
   "execution_count": null,
   "metadata": {},
   "outputs": [],
   "source": []
  },
  {
   "cell_type": "code",
   "execution_count": 2,
   "metadata": {},
   "outputs": [],
   "source": [
    "import random"
   ]
  },
  {
   "cell_type": "code",
   "execution_count": 4,
   "metadata": {},
   "outputs": [
    {
     "name": "stdout",
     "output_type": "stream",
     "text": [
      "42 7\n"
     ]
    }
   ],
   "source": [
    "def inequalizer(a,b):\n",
    "    while a == b:\n",
    "        a = random.randint(1,49)        \n",
    "    return(a, b)\n",
    "\n",
    "randA, randB = inequalizer(random.randint(1,49), random.randint(1,49))\n",
    "\n",
    "print(randA, randB)"
   ]
  },
  {
   "cell_type": "code",
   "execution_count": null,
   "metadata": {},
   "outputs": [],
   "source": []
  }
 ],
 "metadata": {
  "interpreter": {
   "hash": "aeac741e067ebddcd166dfd2d5807f0eb6ca15772ef62a8f89a2141759802e86"
  },
  "kernelspec": {
   "display_name": "Python 3.10.2 ('.sandbox': venv)",
   "language": "python",
   "name": "python3"
  },
  "language_info": {
   "codemirror_mode": {
    "name": "ipython",
    "version": 3
   },
   "file_extension": ".py",
   "mimetype": "text/x-python",
   "name": "python",
   "nbconvert_exporter": "python",
   "pygments_lexer": "ipython3",
   "version": "3.10.2"
  },
  "orig_nbformat": 4
 },
 "nbformat": 4,
 "nbformat_minor": 2
}
