{
 "cells": [
  {
   "cell_type": "markdown",
   "metadata": {},
   "source": [
    "# Day 9 "
   ]
  },
  {
   "cell_type": "markdown",
   "metadata": {},
   "source": [
    "### Dictionaries"
   ]
  },
  {
   "cell_type": "code",
   "execution_count": 1,
   "metadata": {},
   "outputs": [],
   "source": [
    "prog_dict = {\"Bug\":\"An error in a program that prevents the program from running as expected.\", \"Function\": \"A piece of code that you can easily call over and over again\", \"Loop\": \"The action of doing something over and over again\"}"
   ]
  },
  {
   "cell_type": "code",
   "execution_count": 2,
   "metadata": {},
   "outputs": [
    {
     "data": {
      "text/plain": [
       "'An error in a program that prevents the program from running as expected.'"
      ]
     },
     "execution_count": 2,
     "metadata": {},
     "output_type": "execute_result"
    }
   ],
   "source": [
    "prog_dict[\"Bug\"]"
   ]
  },
  {
   "cell_type": "markdown",
   "metadata": {},
   "source": [
    "### programatically loop through"
   ]
  },
  {
   "cell_type": "code",
   "execution_count": 15,
   "metadata": {},
   "outputs": [],
   "source": [
    "prog_dict[\"New\"] = \"New entry\""
   ]
  },
  {
   "cell_type": "code",
   "execution_count": 16,
   "metadata": {},
   "outputs": [
    {
     "data": {
      "text/plain": [
       "{'Bug': 'An error in a program that prevents the program from running as expected.',\n",
       " 'Function': 'A piece of code that you can easily call over and over again',\n",
       " 'Loop': 'The action of doing something over and over again',\n",
       " 'New': 'New entry'}"
      ]
     },
     "execution_count": 16,
     "metadata": {},
     "output_type": "execute_result"
    }
   ],
   "source": [
    "prog_dict"
   ]
  },
  {
   "cell_type": "code",
   "execution_count": 18,
   "metadata": {},
   "outputs": [],
   "source": [
    "prog_dict[\"Bug\"] = \"Redefined value\""
   ]
  },
  {
   "cell_type": "code",
   "execution_count": 19,
   "metadata": {},
   "outputs": [
    {
     "data": {
      "text/plain": [
       "{'Bug': 'Redefined value',\n",
       " 'Function': 'A piece of code that you can easily call over and over again',\n",
       " 'Loop': 'The action of doing something over and over again',\n",
       " 'New': 'New entry'}"
      ]
     },
     "execution_count": 19,
     "metadata": {},
     "output_type": "execute_result"
    }
   ],
   "source": [
    "prog_dict"
   ]
  },
  {
   "cell_type": "code",
   "execution_count": 11,
   "metadata": {},
   "outputs": [],
   "source": [
    "prog_dict = {} ## whipe out"
   ]
  },
  {
   "cell_type": "code",
   "execution_count": 21,
   "metadata": {},
   "outputs": [
    {
     "name": "stdout",
     "output_type": "stream",
     "text": [
      "Bug\n",
      "Redefined value\n",
      "Function\n",
      "A piece of code that you can easily call over and over again\n",
      "Loop\n",
      "The action of doing something over and over again\n",
      "New\n",
      "New entry\n"
     ]
    }
   ],
   "source": [
    "for key in prog_dict:\n",
    "    print(key)\n",
    "    print(prog_dict[key])"
   ]
  },
  {
   "cell_type": "markdown",
   "metadata": {},
   "source": [
    "### Challenge \n",
    "\n",
    "TODO-1: Create an empty dictionary called student_grades.\n",
    "\n",
    "TODO-2: Write your code below to add the grades to student_grades."
   ]
  },
  {
   "cell_type": "code",
   "execution_count": 22,
   "metadata": {},
   "outputs": [],
   "source": [
    "student_scores = {\n",
    "  \"Harry\": 81,\n",
    "  \"Ron\": 78,\n",
    "  \"Hermione\": 99, \n",
    "  \"Draco\": 74,\n",
    "  \"Neville\": 62,\n",
    "}"
   ]
  },
  {
   "cell_type": "markdown",
   "metadata": {},
   "source": [
    "91 - 100 => \"Outstanding\"\n",
    "\n",
    "81 - 90 => \"Exceeds Expectations\"\n",
    "\n",
    "71 - 80 => \"Acceptable\"\n",
    "\n",
    "Less than 71 => \"Fail\""
   ]
  },
  {
   "cell_type": "code",
   "execution_count": 28,
   "metadata": {},
   "outputs": [],
   "source": [
    "student_grades = {}\n",
    "\n",
    "for key in student_scores:\n",
    "    if student_scores[key] >= 91:\n",
    "        student_grades[key] = \"Outstanding\"\n",
    "    elif student_scores[key] >= 81:\n",
    "        student_grades[key] = \"Exceeds Expectations\"\n",
    "    elif student_scores[key] >= 71:\n",
    "        student_grades[key] = \"Acceptable\"\n",
    "    else:\n",
    "        student_grades[key] = \"Fail\"\n",
    "\n"
   ]
  },
  {
   "cell_type": "code",
   "execution_count": 29,
   "metadata": {},
   "outputs": [
    {
     "name": "stdout",
     "output_type": "stream",
     "text": [
      "{'Harry': 'Exceeds Expectations', 'Ron': 'Acceptable', 'Hermione': 'Outstanding', 'Draco': 'Acceptable', 'Neville': 'Fail'}\n"
     ]
    }
   ],
   "source": [
    "print(student_grades)"
   ]
  },
  {
   "cell_type": "markdown",
   "metadata": {},
   "source": [
    "### Nesting \n"
   ]
  },
  {
   "cell_type": "code",
   "execution_count": 33,
   "metadata": {},
   "outputs": [],
   "source": [
    "travel_log = {\n",
    "    \"France\": {\"cities_visited\":[\"Paris\", \"Nice\", \"Tolouse\"], \"total_visits\": 12},\n",
    "    \"Brazil\": {\"cities_visited\":[\"Sao Paulo\", \"Salvador\", \"Porto Alegre\"], \"total_visits\": 25}\n",
    "}"
   ]
  },
  {
   "cell_type": "code",
   "execution_count": 34,
   "metadata": {},
   "outputs": [
    {
     "data": {
      "text/plain": [
       "{'France': {'cities_visited': ['Paris', 'Nice', 'Tolouse'],\n",
       "  'total_visits': 12},\n",
       " 'Brazil': {'cities_visited': ['Sao Paulo', 'Salvador', 'Porto Alegre'],\n",
       "  'total_visits': 25}}"
      ]
     },
     "execution_count": 34,
     "metadata": {},
     "output_type": "execute_result"
    }
   ],
   "source": [
    "travel_log"
   ]
  },
  {
   "cell_type": "code",
   "execution_count": 35,
   "metadata": {},
   "outputs": [],
   "source": [
    "list_of_dicts = [\n",
    "    {\n",
    "    \"country\": \"France\", \n",
    "    \"cities_visited\":[\"Paris\", \"Nice\", \"Tolouse\"], \n",
    "    \"total_visits\": 12\n",
    "    },\n",
    "    {\n",
    "    \"country\": \"Brazil\", \n",
    "    \"cities_visited\":[\"Sao Paulo\", \"Salvador\", \"Porto Alegre\"], \n",
    "    \"total_visits\": 25}\n",
    "    ]"
   ]
  },
  {
   "cell_type": "code",
   "execution_count": 36,
   "metadata": {},
   "outputs": [
    {
     "data": {
      "text/plain": [
       "[{'country': 'France',\n",
       "  'cities_visited': ['Paris', 'Nice', 'Tolouse'],\n",
       "  'total_visits': 12},\n",
       " {'country': 'Brazil',\n",
       "  'cities_visited': ['Sao Paulo', 'Salvador', 'Porto Alegre'],\n",
       "  'total_visits': 25}]"
      ]
     },
     "execution_count": 36,
     "metadata": {},
     "output_type": "execute_result"
    }
   ],
   "source": [
    "list_of_dicts"
   ]
  },
  {
   "cell_type": "markdown",
   "metadata": {},
   "source": [
    "### Challenge\n",
    "\n"
   ]
  },
  {
   "cell_type": "code",
   "execution_count": 37,
   "metadata": {},
   "outputs": [],
   "source": [
    "travel_log = [\n",
    "{\n",
    "  \"country\": \"France\",\n",
    "  \"visits\": 12,\n",
    "  \"cities\": [\"Paris\", \"Lille\", \"Dijon\"]\n",
    "},\n",
    "{\n",
    "  \"country\": \"Germany\",\n",
    "  \"visits\": 5,\n",
    "  \"cities\": [\"Berlin\", \"Hamburg\", \"Stuttgart\"]\n",
    "},\n",
    "]"
   ]
  },
  {
   "cell_type": "code",
   "execution_count": 41,
   "metadata": {},
   "outputs": [
    {
     "name": "stdout",
     "output_type": "stream",
     "text": [
      "[{'country': 'France', 'visits': 12, 'cities': ['Paris', 'Lille', 'Dijon']}, {'country': 'Germany', 'visits': 5, 'cities': ['Berlin', 'Hamburg', 'Stuttgart']}, {'country': 'Russia', 'visits': 2, 'cities': ['Moscow', 'Saint Petersburg']}]\n"
     ]
    }
   ],
   "source": [
    "#🚨 Do NOT change the code above\n",
    "\n",
    "#TODO: Write the function that will allow new countries\n",
    "#to be added to the travel_log. 👇\n",
    "\n",
    "def add_new_country(country_name,number_visits,cities):\n",
    "    new_country={}\n",
    "    new_country[\"country\"] = country_name\n",
    "    new_country[\"visits\"] = number_visits\n",
    "    new_country[\"cities\"] = cities\n",
    "    travel_log.append(new_country)\n",
    "\n",
    "\n",
    "\n",
    "\n",
    "#🚨 Do not change the code below\n",
    "add_new_country(\"Russia\", 2, [\"Moscow\", \"Saint Petersburg\"])\n",
    "print(travel_log)\n"
   ]
  },
  {
   "cell_type": "code",
   "execution_count": 4,
   "metadata": {},
   "outputs": [],
   "source": [
    "import replit"
   ]
  },
  {
   "cell_type": "code",
   "execution_count": null,
   "metadata": {},
   "outputs": [],
   "source": []
  }
 ],
 "metadata": {
  "interpreter": {
   "hash": "aeac741e067ebddcd166dfd2d5807f0eb6ca15772ef62a8f89a2141759802e86"
  },
  "kernelspec": {
   "display_name": "Python 3.10.2 ('.sandbox': venv)",
   "language": "python",
   "name": "python3"
  },
  "language_info": {
   "codemirror_mode": {
    "name": "ipython",
    "version": 3
   },
   "file_extension": ".py",
   "mimetype": "text/x-python",
   "name": "python",
   "nbconvert_exporter": "python",
   "pygments_lexer": "ipython3",
   "version": "3.10.2"
  },
  "orig_nbformat": 4
 },
 "nbformat": 4,
 "nbformat_minor": 2
}
